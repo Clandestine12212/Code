{
  "nbformat": 4,
  "nbformat_minor": 0,
  "metadata": {
    "colab": {
      "name": " HE - Assessment.ipynb",
      "provenance": [],
      "collapsed_sections": [],
      "include_colab_link": true
    },
    "kernelspec": {
      "name": "python3",
      "display_name": "Python 3"
    },
    "language_info": {
      "name": "python"
    }
  },
  "cells": [
    {
      "cell_type": "markdown",
      "metadata": {
        "id": "view-in-github",
        "colab_type": "text"
      },
      "source": [
        "<a href=\"https://colab.research.google.com/github/Clandestine12212/Code/blob/main/HE_Assessment.ipynb\" target=\"_parent\"><img src=\"https://colab.research.google.com/assets/colab-badge.svg\" alt=\"Open In Colab\"/></a>"
      ]
    },
    {
      "cell_type": "markdown",
      "metadata": {
        "id": "R_y5tyFXy0C7"
      },
      "source": [
        "*The assessment was to be completed on Hacker Earth, but due to the laggy interface and insufficient time; I could not get it done. I happened to have noticed that I could still submit the assessment within the day, so here that goes!*\n",
        "\n",
        "In any case, it's been a while since I've done an assessment, so this was challenging and fun. Thank you for the opportunity. "
      ]
    },
    {
      "cell_type": "code",
      "metadata": {
        "id": "08KVGzX50LN4"
      },
      "source": [
        "There was a range expression in the assessment, which I do not completely recall and hence has not been included\n",
        "\n",
        "What I have below is a recreation of what I do believe was in the assessment; however I could be slightly off\n",
        "\n",
        "What I do remember is evaluation of expressions, two cases \n",
        "\n",
        "- A standard straight forward evaluation of expressions as shown in first line\n",
        "\n",
        "- The second line showcases a nested condition\n",
        "\n",
        "Both of these have been evaluated in the notebook below\n",
        "\n"
      ],
      "execution_count": null,
      "outputs": []
    },
    {
      "cell_type": "code",
      "metadata": {
        "id": "kLfsvxDNFKIm"
      },
      "source": [
        "Exp=\" - * 1 4 5\""
      ],
      "execution_count": null,
      "outputs": []
    },
    {
      "cell_type": "code",
      "metadata": {
        "id": "H8OlWv4Eyk6l"
      },
      "source": [
        "Exp=\" - 1 * 1 4\""
      ],
      "execution_count": null,
      "outputs": []
    },
    {
      "cell_type": "code",
      "metadata": {
        "id": "UJTPhMOQXj--"
      },
      "source": [
        "Status=1"
      ],
      "execution_count": null,
      "outputs": []
    },
    {
      "cell_type": "code",
      "metadata": {
        "id": "FXA2l1_4wNAi"
      },
      "source": [
        "def transform(Operators_pos,Operands_pos,Exp_list):\n",
        "  Needed=Operators_pos[-1]\n",
        "  Needed_1=Operands_pos[0]\n",
        "  temp=Exp_list[Needed]\n",
        "  Exp_list[Needed]=Exp_list[Needed_1]\n",
        "  Exp_list[Needed_1]=temp\n",
        "  return Exp_list"
      ],
      "execution_count": null,
      "outputs": []
    },
    {
      "cell_type": "code",
      "metadata": {
        "id": "RlogoeRcSIY0"
      },
      "source": [
        ""
      ],
      "execution_count": null,
      "outputs": []
    },
    {
      "cell_type": "code",
      "metadata": {
        "id": "__xpDCNQFPeS"
      },
      "source": [
        "Num_list=[x for x in range(10)]"
      ],
      "execution_count": null,
      "outputs": []
    },
    {
      "cell_type": "code",
      "metadata": {
        "colab": {
          "base_uri": "https://localhost:8080/"
        },
        "id": "_KZrA7QpGzeA",
        "outputId": "04190c09-e3c5-4a3c-f2e3-9f85f5c850c3"
      },
      "source": [
        "Num_list\n"
      ],
      "execution_count": null,
      "outputs": [
        {
          "output_type": "execute_result",
          "data": {
            "text/plain": [
              "[0, 1, 2, 3, 4, 5, 6, 7, 8, 9]"
            ]
          },
          "metadata": {
            "tags": []
          },
          "execution_count": 300
        }
      ]
    },
    {
      "cell_type": "code",
      "metadata": {
        "id": "dTNA85JWFVa0"
      },
      "source": [
        "Exp_list=list(Exp)"
      ],
      "execution_count": null,
      "outputs": []
    },
    {
      "cell_type": "code",
      "metadata": {
        "colab": {
          "base_uri": "https://localhost:8080/"
        },
        "id": "ak3k68ZvvRod",
        "outputId": "784d279c-70d8-4269-c06c-08d34de3b19b"
      },
      "source": [
        "Exp_list"
      ],
      "execution_count": null,
      "outputs": [
        {
          "output_type": "execute_result",
          "data": {
            "text/plain": [
              "[' ', '-', ' ', '1', ' ', '*', ' ', '1', ' ', '4']"
            ]
          },
          "metadata": {
            "tags": []
          },
          "execution_count": 302
        }
      ]
    },
    {
      "cell_type": "code",
      "metadata": {
        "id": "FuXH5LvCFcvb"
      },
      "source": [
        "def Preprocessing(Exp_list):\n",
        "  Operands=[]\n",
        "  Operands_pos=[]\n",
        "  Operators=[]\n",
        "  Operators_pos=[]\n",
        "  for ix,x in enumerate(Exp_list):\n",
        "    if x in str(Num_list):\n",
        "      if x !=' ':\n",
        "        Operands.append(x)\n",
        "        Operands_pos.append(ix)\n",
        "    else:\n",
        "      Operators.append(x)\n",
        "      Operators_pos.append(ix)\n",
        "  return Operands,Operands_pos,Operators,Operators_pos\n",
        "\n",
        "\n",
        "\n",
        "\n"
      ],
      "execution_count": null,
      "outputs": []
    },
    {
      "cell_type": "code",
      "metadata": {
        "id": "ZJV70YeQw5Tf"
      },
      "source": [
        "Operands,Operands_pos,Operators,Operators_pos=Preprocessing(Exp_list)"
      ],
      "execution_count": null,
      "outputs": []
    },
    {
      "cell_type": "code",
      "metadata": {
        "colab": {
          "base_uri": "https://localhost:8080/"
        },
        "id": "e0vxd1FqFzTd",
        "outputId": "f2e063c1-7cc1-4edf-80b6-501f14594ae0"
      },
      "source": [
        "Operands"
      ],
      "execution_count": null,
      "outputs": [
        {
          "output_type": "execute_result",
          "data": {
            "text/plain": [
              "['1', '1', '4']"
            ]
          },
          "metadata": {
            "tags": []
          },
          "execution_count": 305
        }
      ]
    },
    {
      "cell_type": "code",
      "metadata": {
        "colab": {
          "base_uri": "https://localhost:8080/"
        },
        "id": "X0xlEh_EH1N9",
        "outputId": "870ddd4a-fe38-4091-eaaf-e81d582a0deb"
      },
      "source": [
        "Operands_pos"
      ],
      "execution_count": null,
      "outputs": [
        {
          "output_type": "execute_result",
          "data": {
            "text/plain": [
              "[3, 7, 9]"
            ]
          },
          "metadata": {
            "tags": []
          },
          "execution_count": 306
        }
      ]
    },
    {
      "cell_type": "code",
      "metadata": {
        "colab": {
          "base_uri": "https://localhost:8080/"
        },
        "id": "Vxgrr9xGIEUa",
        "outputId": "7147ce46-e571-47b4-befd-b17af2b4b467"
      },
      "source": [
        "Operators"
      ],
      "execution_count": null,
      "outputs": [
        {
          "output_type": "execute_result",
          "data": {
            "text/plain": [
              "['-', '*']"
            ]
          },
          "metadata": {
            "tags": []
          },
          "execution_count": 307
        }
      ]
    },
    {
      "cell_type": "code",
      "metadata": {
        "colab": {
          "base_uri": "https://localhost:8080/"
        },
        "id": "x-uYg1mXIJlr",
        "outputId": "4b2a4f74-755e-4050-b7d1-33048d964802"
      },
      "source": [
        "Operators_pos"
      ],
      "execution_count": null,
      "outputs": [
        {
          "output_type": "execute_result",
          "data": {
            "text/plain": [
              "[1, 5]"
            ]
          },
          "metadata": {
            "tags": []
          },
          "execution_count": 308
        }
      ]
    },
    {
      "cell_type": "code",
      "metadata": {
        "id": "8gC-sN3TILPa"
      },
      "source": [
        "if (Operators_pos[-1]) < (Operands_pos[0]):\n",
        "  Flag=0\n",
        "else:\n",
        "  Flag=1"
      ],
      "execution_count": null,
      "outputs": []
    },
    {
      "cell_type": "code",
      "metadata": {
        "colab": {
          "base_uri": "https://localhost:8080/"
        },
        "id": "RoBbhsVYScNx",
        "outputId": "057137b7-bc6c-4353-edcd-7e71e87eacf0"
      },
      "source": [
        "Flag"
      ],
      "execution_count": null,
      "outputs": [
        {
          "output_type": "execute_result",
          "data": {
            "text/plain": [
              "1"
            ]
          },
          "metadata": {
            "tags": []
          },
          "execution_count": 310
        }
      ]
    },
    {
      "cell_type": "code",
      "metadata": {
        "id": "SXgFRlNZyAc_"
      },
      "source": [
        "# If value of Flag = 0; proceed with the normal condition\n",
        "\n",
        "# If not, proceed with the sub query clause, which incidentally means that there's nesting in the expression which is transformed using a transform clause "
      ],
      "execution_count": null,
      "outputs": []
    },
    {
      "cell_type": "code",
      "metadata": {
        "id": "cz51DD6hwR8H"
      },
      "source": [
        "if Flag !=0:\n",
        "  catch=transform(Operators_pos,Operands_pos,Exp_list)\n",
        "  Operands,Operands_pos,Operators,Operators_pos=Preprocessing(catch)\n"
      ],
      "execution_count": null,
      "outputs": []
    },
    {
      "cell_type": "code",
      "metadata": {
        "id": "Bc9ymbEKwaEP"
      },
      "source": [
        ""
      ],
      "execution_count": null,
      "outputs": []
    },
    {
      "cell_type": "code",
      "metadata": {
        "id": "qtDupeN_SxMB"
      },
      "source": [
        ""
      ],
      "execution_count": null,
      "outputs": []
    },
    {
      "cell_type": "markdown",
      "metadata": {
        "id": "VcXnzUckTFIq"
      },
      "source": [
        "**Normal Evaluation of the expression when all operands are towards the right and all operators are towards the left**\n",
        "\n",
        "\n"
      ]
    },
    {
      "cell_type": "code",
      "metadata": {
        "colab": {
          "base_uri": "https://localhost:8080/"
        },
        "id": "oKkdrhkwI8_9",
        "outputId": "eb714cfb-8e1e-49ab-db05-5064d9aea570"
      },
      "source": [
        "\n",
        "Master=[]\n",
        "k=0\n",
        "for i in range(len(Operands)):\n",
        "  try:\n",
        "    if len(Master)==0:\n",
        "      Num1=Operands[i]\n",
        "      \n",
        "      Num2=Operands[i+1]\n",
        "      print(Num1,Num2)\n",
        "    else:\n",
        "      Num1=str(Master[-1])\n",
        "      Num2=Operands[i+1]\n",
        "    k=k+1\n",
        "    Op=Operators[len(Operators)-(i+1)]\n",
        "   \n",
        "  except:\n",
        "    print(\"Here\")\n",
        "    continue\n",
        "  print(Num1,Op,Num2)\n",
        "  Apprehension=[]\n",
        "  Apprehension.append(\"(\")\n",
        "  Apprehension.append(Num1)\n",
        "  Apprehension.append(Op)\n",
        "  Apprehension.append(Num2)\n",
        "  Apprehension.append(\")\")\n",
        "  print(\"Tah-da\")\n",
        "  print(Apprehension)\n",
        "  Eval_strategy=''.join(Apprehension)\n",
        "  print(Eval_strategy)\n",
        "  Evaluate=eval(Eval_strategy)\n",
        "  Master.append(Evaluate)\n",
        "  print(\"Tah-da-1\")\n",
        "  print(Master)\n",
        "  \n",
        "\n",
        "\n",
        "\n"
      ],
      "execution_count": null,
      "outputs": [
        {
          "output_type": "stream",
          "text": [
            "1 1\n",
            "1 * 1\n",
            "Tah-da\n",
            "['(', '1', '*', '1', ')']\n",
            "(1*1)\n",
            "Tah-da-1\n",
            "[1]\n",
            "1 - 4\n",
            "Tah-da\n",
            "['(', '1', '-', '4', ')']\n",
            "(1-4)\n",
            "Tah-da-1\n",
            "[1, -3]\n",
            "Here\n"
          ],
          "name": "stdout"
        }
      ]
    },
    {
      "cell_type": "code",
      "metadata": {
        "colab": {
          "base_uri": "https://localhost:8080/"
        },
        "id": "6azBJ7LWQVXt",
        "outputId": "e64743ce-4923-481e-d1cc-2bda32271dd3"
      },
      "source": [
        "Master[-1]"
      ],
      "execution_count": null,
      "outputs": [
        {
          "output_type": "execute_result",
          "data": {
            "text/plain": [
              "-3"
            ]
          },
          "metadata": {
            "tags": []
          },
          "execution_count": 314
        }
      ]
    },
    {
      "cell_type": "code",
      "metadata": {
        "colab": {
          "base_uri": "https://localhost:8080/"
        },
        "id": "z5Qa9aBFTnp4",
        "outputId": "f439209f-37b8-44fd-cc4f-70305b069cf3"
      },
      "source": [
        "print(f\"Required output is {Master[-1]}\")"
      ],
      "execution_count": null,
      "outputs": [
        {
          "output_type": "stream",
          "text": [
            "Required output is -3\n"
          ],
          "name": "stdout"
        }
      ]
    },
    {
      "cell_type": "markdown",
      "metadata": {
        "id": "cQZHspHhTjGl"
      },
      "source": [
        "**WORK AREA - IGNORE**\n"
      ]
    },
    {
      "cell_type": "code",
      "metadata": {
        "id": "x3dNKIvLLj96"
      },
      "source": [
        "# Flag = 1 condition, nested subquery clause"
      ],
      "execution_count": null,
      "outputs": []
    },
    {
      "cell_type": "code",
      "metadata": {
        "colab": {
          "base_uri": "https://localhost:8080/"
        },
        "id": "kZncrrbHT1ni",
        "outputId": "83158983-63b5-4dbc-d566-650ce8005f60"
      },
      "source": [
        "Operands"
      ],
      "execution_count": null,
      "outputs": [
        {
          "output_type": "execute_result",
          "data": {
            "text/plain": [
              "['1', '1', '4']"
            ]
          },
          "metadata": {
            "tags": []
          },
          "execution_count": 89
        }
      ]
    },
    {
      "cell_type": "code",
      "metadata": {
        "colab": {
          "base_uri": "https://localhost:8080/"
        },
        "id": "y1uXDNhjT1nl",
        "outputId": "c878deed-8548-4797-ac4d-5505bde95315"
      },
      "source": [
        "Operands_pos"
      ],
      "execution_count": null,
      "outputs": [
        {
          "output_type": "execute_result",
          "data": {
            "text/plain": [
              "[3, 7, 9]"
            ]
          },
          "metadata": {
            "tags": []
          },
          "execution_count": 90
        }
      ]
    },
    {
      "cell_type": "code",
      "metadata": {
        "colab": {
          "base_uri": "https://localhost:8080/"
        },
        "id": "D1p4UBQMT1nm",
        "outputId": "007ca04e-3da2-4ed6-87c8-8a6c6f29bf4d"
      },
      "source": [
        "Operators"
      ],
      "execution_count": null,
      "outputs": [
        {
          "output_type": "execute_result",
          "data": {
            "text/plain": [
              "['-', '*']"
            ]
          },
          "metadata": {
            "tags": []
          },
          "execution_count": 91
        }
      ]
    },
    {
      "cell_type": "code",
      "metadata": {
        "colab": {
          "base_uri": "https://localhost:8080/"
        },
        "id": "0jKQgPEkT1nn",
        "outputId": "5d7dba8b-5526-4c45-db80-7f934acc34a1"
      },
      "source": [
        "Operators_pos"
      ],
      "execution_count": null,
      "outputs": [
        {
          "output_type": "execute_result",
          "data": {
            "text/plain": [
              "[1, 5]"
            ]
          },
          "metadata": {
            "tags": []
          },
          "execution_count": 92
        }
      ]
    },
    {
      "cell_type": "code",
      "metadata": {
        "id": "GDCMk7oyv1qC"
      },
      "source": [
        ""
      ],
      "execution_count": null,
      "outputs": []
    },
    {
      "cell_type": "code",
      "metadata": {
        "id": "qGkLFpE0T6VJ"
      },
      "source": [
        "Needed=Operators_pos[-1]"
      ],
      "execution_count": null,
      "outputs": []
    },
    {
      "cell_type": "code",
      "metadata": {
        "id": "pkd6V6-LXLY_"
      },
      "source": [
        "Needed_1=Operands_pos[0]"
      ],
      "execution_count": null,
      "outputs": []
    },
    {
      "cell_type": "code",
      "metadata": {
        "colab": {
          "base_uri": "https://localhost:8080/"
        },
        "id": "sKXsr78gs3Zr",
        "outputId": "f1a5a8f2-6af4-4afe-80e6-6ee20bf3983a"
      },
      "source": [
        "Needed,Needed_1"
      ],
      "execution_count": null,
      "outputs": [
        {
          "output_type": "execute_result",
          "data": {
            "text/plain": [
              "(5, 3)"
            ]
          },
          "metadata": {
            "tags": []
          },
          "execution_count": 194
        }
      ]
    },
    {
      "cell_type": "code",
      "metadata": {
        "id": "IwEdtMVxtUC6"
      },
      "source": [
        "temp=Exp_list[Needed]\n",
        "Exp_list[Needed]=Exp_list[Needed_1]\n",
        "Exp_list[Needed_1]=temp"
      ],
      "execution_count": null,
      "outputs": []
    },
    {
      "cell_type": "code",
      "metadata": {
        "colab": {
          "base_uri": "https://localhost:8080/"
        },
        "id": "d3WOsPNWt4rS",
        "outputId": "8354b753-b742-44e9-cc8b-2acf2e36726d"
      },
      "source": [
        "Exp_list"
      ],
      "execution_count": null,
      "outputs": [
        {
          "output_type": "execute_result",
          "data": {
            "text/plain": [
              "[' ', '-', ' ', '*', ' ', '1', ' ', '1', ' ', '4']"
            ]
          },
          "metadata": {
            "tags": []
          },
          "execution_count": 204
        }
      ]
    },
    {
      "cell_type": "code",
      "metadata": {
        "id": "BJNmqDZdp1sV"
      },
      "source": [
        "# if Needed > Needed_1:\n",
        "#   Req_operator=[Exp_list[Needed]]\n",
        "# else:\n",
        "#   Req_operator=[Exp_list[Needed_1]]"
      ],
      "execution_count": null,
      "outputs": []
    },
    {
      "cell_type": "code",
      "metadata": {
        "id": "ZNnSPcKqqTBW"
      },
      "source": [
        "# Req_operator"
      ],
      "execution_count": null,
      "outputs": []
    },
    {
      "cell_type": "code",
      "metadata": {
        "id": "mrDbDzpNUCDO"
      },
      "source": [
        "Condition_1=[x for x in Operands_pos if x < Needed]"
      ],
      "execution_count": null,
      "outputs": []
    },
    {
      "cell_type": "code",
      "metadata": {
        "id": "s9HvAuERXFEv"
      },
      "source": [
        "Condition_2=[x for x in Operators_pos if x < Needed_1]"
      ],
      "execution_count": null,
      "outputs": []
    },
    {
      "cell_type": "code",
      "metadata": {
        "colab": {
          "base_uri": "https://localhost:8080/"
        },
        "id": "P3_8E9OeXTWO",
        "outputId": "14c68ebc-e3bc-4aae-bc8c-615bba54a8a5"
      },
      "source": [
        " Condition_1,Condition_2"
      ],
      "execution_count": null,
      "outputs": [
        {
          "output_type": "execute_result",
          "data": {
            "text/plain": [
              "([3], [1])"
            ]
          },
          "metadata": {
            "tags": []
          },
          "execution_count": 209
        }
      ]
    },
    {
      "cell_type": "code",
      "metadata": {
        "id": "S_eXe5wwUSCA"
      },
      "source": [
        "if len(Condition_1)>1:\n",
        "  Status=0"
      ],
      "execution_count": null,
      "outputs": []
    },
    {
      "cell_type": "code",
      "metadata": {
        "id": "eYWhHD0hXcEo"
      },
      "source": [
        "if len(Condition_2)>1:\n",
        "  Status=0"
      ],
      "execution_count": null,
      "outputs": []
    },
    {
      "cell_type": "code",
      "metadata": {
        "colab": {
          "base_uri": "https://localhost:8080/"
        },
        "id": "qER4F5utXhQO",
        "outputId": "4becc054-93d4-40d9-98bf-fea5afa55631"
      },
      "source": [
        "Status"
      ],
      "execution_count": null,
      "outputs": [
        {
          "output_type": "execute_result",
          "data": {
            "text/plain": [
              "1"
            ]
          },
          "metadata": {
            "tags": []
          },
          "execution_count": 212
        }
      ]
    },
    {
      "cell_type": "code",
      "metadata": {
        "id": "KEJtOA2tWOUg"
      },
      "source": [
        "Req_index=Operands_pos.index(Condition_1[0])"
      ],
      "execution_count": null,
      "outputs": []
    },
    {
      "cell_type": "code",
      "metadata": {
        "id": "K1Afei7oXqNW"
      },
      "source": [
        "Req_index_1=Operators_pos.index(Condition_2[0])"
      ],
      "execution_count": null,
      "outputs": []
    },
    {
      "cell_type": "code",
      "metadata": {
        "colab": {
          "base_uri": "https://localhost:8080/"
        },
        "id": "zbQ8adB8XxLn",
        "outputId": "468f0278-2bc4-4ed6-9bd2-91d170ac7a90"
      },
      "source": [
        "Req_index,Req_index_1"
      ],
      "execution_count": null,
      "outputs": [
        {
          "output_type": "execute_result",
          "data": {
            "text/plain": [
              "(0, 0)"
            ]
          },
          "metadata": {
            "tags": []
          },
          "execution_count": 180
        }
      ]
    },
    {
      "cell_type": "code",
      "metadata": {
        "id": "GOgtbrYCVciZ"
      },
      "source": [
        "Operands_split=Operands[:Req_index+2]"
      ],
      "execution_count": null,
      "outputs": []
    },
    {
      "cell_type": "code",
      "metadata": {
        "id": "UWR0BJ8PWoE4"
      },
      "source": [
        "Operands_pos_split=Operands_pos[:Req_index+2]"
      ],
      "execution_count": null,
      "outputs": []
    },
    {
      "cell_type": "code",
      "metadata": {
        "id": "m8j68CigWwNo"
      },
      "source": [
        "Operators_split=Operators[:Req_index_1+1]"
      ],
      "execution_count": null,
      "outputs": []
    },
    {
      "cell_type": "code",
      "metadata": {
        "id": "9rB_VBdLWwQm"
      },
      "source": [
        "Operators_pos_split=Operators_pos[:Req_index_1+1]"
      ],
      "execution_count": null,
      "outputs": []
    },
    {
      "cell_type": "code",
      "metadata": {
        "colab": {
          "base_uri": "https://localhost:8080/"
        },
        "id": "VufwP0zCWfT1",
        "outputId": "8415a0b7-dd28-4fbe-f2ce-5700db72f7f4"
      },
      "source": [
        "Operands_pos_split\n"
      ],
      "execution_count": null,
      "outputs": [
        {
          "output_type": "execute_result",
          "data": {
            "text/plain": [
              "[3, 7]"
            ]
          },
          "metadata": {
            "tags": []
          },
          "execution_count": 185
        }
      ]
    },
    {
      "cell_type": "code",
      "metadata": {
        "colab": {
          "base_uri": "https://localhost:8080/"
        },
        "id": "t5txh36HWh4c",
        "outputId": "ff391ef8-a8f9-45ab-94c5-dfc83f3bfa98"
      },
      "source": [
        "Operands_split"
      ],
      "execution_count": null,
      "outputs": [
        {
          "output_type": "execute_result",
          "data": {
            "text/plain": [
              "['1', '1']"
            ]
          },
          "metadata": {
            "tags": []
          },
          "execution_count": 186
        }
      ]
    },
    {
      "cell_type": "code",
      "metadata": {
        "colab": {
          "base_uri": "https://localhost:8080/"
        },
        "id": "5mZQmv5JYEB9",
        "outputId": "45f035a7-9711-4748-e84b-a781f615a59d"
      },
      "source": [
        "Operators_split"
      ],
      "execution_count": null,
      "outputs": [
        {
          "output_type": "execute_result",
          "data": {
            "text/plain": [
              "['-']"
            ]
          },
          "metadata": {
            "tags": []
          },
          "execution_count": 187
        }
      ]
    },
    {
      "cell_type": "code",
      "metadata": {
        "colab": {
          "base_uri": "https://localhost:8080/"
        },
        "id": "u-2hpdfyYF2u",
        "outputId": "6b2bee2f-e8d1-4593-c153-2faec37fba81"
      },
      "source": [
        "Operators_pos_split"
      ],
      "execution_count": null,
      "outputs": [
        {
          "output_type": "execute_result",
          "data": {
            "text/plain": [
              "[1]"
            ]
          },
          "metadata": {
            "tags": []
          },
          "execution_count": 188
        }
      ]
    },
    {
      "cell_type": "code",
      "metadata": {
        "colab": {
          "base_uri": "https://localhost:8080/"
        },
        "id": "i_QMGjQUZlX0",
        "outputId": "c14aff1a-ff8d-4911-9df0-bcfee14272d6"
      },
      "source": [
        "for i in range(len(Operands_split)):\n",
        "  print(1)"
      ],
      "execution_count": null,
      "outputs": [
        {
          "output_type": "stream",
          "text": [
            "1\n"
          ],
          "name": "stdout"
        }
      ]
    },
    {
      "cell_type": "code",
      "metadata": {
        "colab": {
          "base_uri": "https://localhost:8080/"
        },
        "id": "pZNd1uiiZB0l",
        "outputId": "6e14f3d2-4fca-4572-91ae-e99d4683e075"
      },
      "source": [
        "Answer=Definition(Operands_split,Req_operator)"
      ],
      "execution_count": null,
      "outputs": [
        {
          "output_type": "stream",
          "text": [
            "1 1\n",
            "1 * 1\n",
            "Tah-da\n",
            "['(', '1', '*', '1', ')']\n",
            "(1*1)\n",
            "Tah-da-1\n",
            "[1]\n"
          ],
          "name": "stdout"
        }
      ]
    },
    {
      "cell_type": "code",
      "metadata": {
        "colab": {
          "base_uri": "https://localhost:8080/"
        },
        "id": "sD4LSOEprwa8",
        "outputId": "fad71620-a642-4a9f-b284-3631c7d338f8"
      },
      "source": [
        "Answer"
      ],
      "execution_count": null,
      "outputs": [
        {
          "output_type": "execute_result",
          "data": {
            "text/plain": [
              "1"
            ]
          },
          "metadata": {
            "tags": []
          },
          "execution_count": 193
        }
      ]
    },
    {
      "cell_type": "code",
      "metadata": {
        "id": "P5h8cA1sYHvF"
      },
      "source": [
        ""
      ],
      "execution_count": null,
      "outputs": []
    },
    {
      "cell_type": "code",
      "metadata": {
        "id": "opl72hfNY_kL"
      },
      "source": [
        "def Definition(Operands_split,Operators_split):\n",
        "  Operands=Operands_split\n",
        "  Operators=Operators_split\n",
        "\n",
        "  Master=[]\n",
        "  k=0\n",
        "  for i in range(len(Operands)):\n",
        "    try:\n",
        "      if len(Master)==0:\n",
        "        Num1=Operands[i]\n",
        "        \n",
        "        Num2=Operands[i+1]\n",
        "        print(Num1,Num2)\n",
        "      else:\n",
        "        Num1=str(Master[-1])\n",
        "        Num2=Operands[i+1]\n",
        "      k=k+1\n",
        "      Op=Operators[len(Operators)-(i+1)]\n",
        "    \n",
        "    except:\n",
        "      print(\"Here\")\n",
        "      continue\n",
        "    print(Num1,Op,Num2)\n",
        "    Apprehension=[]\n",
        "    Apprehension.append(\"(\")\n",
        "    Apprehension.append(Num1)\n",
        "    Apprehension.append(Op)\n",
        "    Apprehension.append(Num2)\n",
        "    Apprehension.append(\")\")\n",
        "    print(\"Tah-da\")\n",
        "    print(Apprehension)\n",
        "    Eval_strategy=''.join(Apprehension)\n",
        "    print(Eval_strategy)\n",
        "    Evaluate=eval(Eval_strategy)\n",
        "    Master.append(Evaluate)\n",
        "    print(\"Tah-da-1\")\n",
        "    print(Master)\n",
        "    return Master[-1]\n",
        "  \n",
        "\n",
        "\n",
        "\n"
      ],
      "execution_count": null,
      "outputs": []
    }
  ]
}